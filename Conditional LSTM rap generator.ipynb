{
 "cells": [
  {
   "cell_type": "markdown",
   "metadata": {
    "id": "gRgoKraSep37"
   },
   "source": [
    "# 3 - Conditioning the lyrics generation by artist's name\n",
    "\n",
    "We implement a word-level LSTM french rap lyrics generator, conditionned by artist name"
   ]
  },
  {
   "cell_type": "code",
   "execution_count": null,
   "metadata": {
    "colab": {
     "base_uri": "https://localhost:8080/"
    },
    "executionInfo": {
     "elapsed": 22615,
     "status": "ok",
     "timestamp": 1617717055412,
     "user": {
      "displayName": "Etienne Guével",
      "photoUrl": "",
      "userId": "05619154425363425953"
     },
     "user_tz": -60
    },
    "id": "GlCVXz_cuUHL",
    "outputId": "4478a0dd-1505-4b54-999a-0fc12add9028"
   },
   "outputs": [
    {
     "name": "stdout",
     "output_type": "stream",
     "text": [
      "Mounted at /content/drive/\n"
     ]
    }
   ],
   "source": [
    "from google.colab import drive\n",
    "drive.mount('/content/drive/', force_remount=True)"
   ]
  },
  {
   "cell_type": "code",
   "execution_count": null,
   "metadata": {
    "colab": {
     "base_uri": "https://localhost:8080/"
    },
    "executionInfo": {
     "elapsed": 22999,
     "status": "ok",
     "timestamp": 1617717080821,
     "user": {
      "displayName": "Etienne Guével",
      "photoUrl": "",
      "userId": "05619154425363425953"
     },
     "user_tz": -60
    },
    "id": "pzWB4fhHecJv",
    "outputId": "9bc192e5-ad63-4072-a668-ac8d5b699932"
   },
   "outputs": [
    {
     "name": "stderr",
     "output_type": "stream",
     "text": [
      "100%|██████████| 54/54 [00:21<00:00,  2.51it/s]"
     ]
    },
    {
     "name": "stdout",
     "output_type": "stream",
     "text": [
      "\n",
      "# Artists: 54 alkpote, booba, bosh, lucio bukowski, demi portion, dinos, disiz, hatik, doc gynéco, dosseh, hippocampe fou, hornet la frappe, kery james, la fouine, gambi, kaaris, gradur, grand corps malade, kacem wapalek, kalash criminel, koba lad, kool shen, lacrim, niro, niska, leto, orelsan, plk, lomepal, lord esperanza, oxmo puccino, mac tyer, rohff, mc solaar, sinik, médine, soprano, mister you, still fresh, sultan, tsew the kid, alpha wann, naps, youssoupha, naza, nekfeu, fonky family, hocus pocus, mz, pnl, psy 4 de la rime, stupeflip, suprême ntm, damso\n"
     ]
    },
    {
     "name": "stderr",
     "output_type": "stream",
     "text": [
      "\n"
     ]
    }
   ],
   "source": [
    "'''\n",
    "the first step is to read the lyric corpus,\n",
    "removing the ponctuation and spliting it into words\n",
    "\n",
    "'''\n",
    "import glob\n",
    "from tqdm import tqdm \n",
    "import os\n",
    "\n",
    "lyrics_path = '/content/drive/MyDrive/ProjetDL/lyrics/*.txt'\n",
    "lyrics_path_bis = '/content/drive/MyDrive/ProjetDL/lyricsbis/*.txt'\n",
    "\n",
    "\n",
    "files = glob.glob(lyrics_path_bis)\n",
    "corpus_by_artists = { }\n",
    "total_corpus = []\n",
    "artists_list = []\n",
    "for file in tqdm(files, position=0, leave=True) :\n",
    "    with open(file) as f :\n",
    "        text = f.read().lower().replace('\\n', ' \\n ')\n",
    "        text_in_words = [w for w in text.split(' ') if w.strip() != '' or w == '\\n']\n",
    "        corpus = text_in_words\n",
    "        total_corpus = total_corpus + corpus\n",
    "        artist_txt = os.path.basename(f.name)\n",
    "        artist = os.path.splitext(artist_txt)[0]\n",
    "        artists_list.append(artist)\n",
    "    corpus_by_artists[artist] = corpus\n",
    "\n",
    "n_artists = len(artists_list)\n",
    "print('')\n",
    "print('# Artists:',n_artists, \", \".join(artists_list))"
   ]
  },
  {
   "cell_type": "code",
   "execution_count": null,
   "metadata": {
    "colab": {
     "base_uri": "https://localhost:8080/"
    },
    "executionInfo": {
     "elapsed": 22331,
     "status": "ok",
     "timestamp": 1617717081883,
     "user": {
      "displayName": "Etienne Guével",
      "photoUrl": "",
      "userId": "05619154425363425953"
     },
     "user_tz": -60
    },
    "id": "tx2HT5vD2pmK",
    "outputId": "9c3df2ec-29e8-4976-bf07-e9eac612eb38"
   },
   "outputs": [
    {
     "data": {
      "text/plain": [
       "LabelBinarizer(neg_label=0, pos_label=1, sparse_output=False)"
      ]
     },
     "execution_count": 3,
     "metadata": {
      "tags": []
     },
     "output_type": "execute_result"
    }
   ],
   "source": [
    "from sklearn.preprocessing import LabelBinarizer\n",
    "lb = LabelBinarizer()\n",
    "lb.fit(artists_list)"
   ]
  },
  {
   "cell_type": "code",
   "execution_count": null,
   "metadata": {
    "colab": {
     "base_uri": "https://localhost:8080/"
    },
    "executionInfo": {
     "elapsed": 21355,
     "status": "ok",
     "timestamp": 1617717081884,
     "user": {
      "displayName": "Etienne Guével",
      "photoUrl": "",
      "userId": "05619154425363425953"
     },
     "user_tz": -60
    },
    "id": "gQLpxxqyjf4q",
    "outputId": "d35b5279-fbc7-4c89-f2a6-d447a32f0768"
   },
   "outputs": [
    {
     "name": "stdout",
     "output_type": "stream",
     "text": [
      "There are 121890 words in alkpote corpus\n",
      "There are 112572 words in booba corpus\n",
      "There are 31591 words in bosh corpus\n",
      "There are 96620 words in lucio bukowski corpus\n",
      "There are 89038 words in demi portion corpus\n",
      "There are 59911 words in dinos corpus\n",
      "There are 116532 words in disiz corpus\n",
      "There are 72618 words in hatik corpus\n",
      "There are 25547 words in doc gynéco corpus\n",
      "There are 93825 words in dosseh corpus\n",
      "There are 41833 words in hippocampe fou corpus\n",
      "There are 44963 words in hornet la frappe corpus\n",
      "There are 105795 words in kery james corpus\n",
      "There are 136780 words in la fouine corpus\n",
      "There are 113730 words in gambi corpus\n",
      "There are 133490 words in kaaris corpus\n",
      "There are 68170 words in gradur corpus\n",
      "There are 60589 words in grand corps malade corpus\n",
      "There are 29947 words in kacem wapalek corpus\n",
      "There are 45057 words in kalash criminel corpus\n",
      "There are 48460 words in koba lad corpus\n",
      "There are 29649 words in kool shen corpus\n",
      "There are 148689 words in lacrim corpus\n",
      "There are 130627 words in niro corpus\n",
      "There are 69883 words in niska corpus\n",
      "There are 99931 words in leto corpus\n",
      "There are 51132 words in orelsan corpus\n",
      "There are 71597 words in plk corpus\n",
      "There are 71691 words in lomepal corpus\n",
      "There are 74952 words in lord esperanza corpus\n",
      "There are 84526 words in oxmo puccino corpus\n",
      "There are 120419 words in mac tyer corpus\n",
      "There are 231004 words in rohff corpus\n",
      "There are 69081 words in mc solaar corpus\n",
      "There are 134502 words in sinik corpus\n",
      "There are 106344 words in médine corpus\n",
      "There are 108984 words in soprano corpus\n",
      "There are 107083 words in mister you corpus\n",
      "There are 45449 words in still fresh corpus\n",
      "There are 45870 words in sultan corpus\n",
      "There are 23679 words in tsew the kid corpus\n",
      "There are 55068 words in alpha wann corpus\n",
      "There are 85102 words in naps corpus\n",
      "There are 89671 words in youssoupha corpus\n",
      "There are 133207 words in naza corpus\n",
      "There are 119036 words in nekfeu corpus\n",
      "There are 62567 words in fonky family corpus\n",
      "There are 31732 words in hocus pocus corpus\n",
      "There are 60249 words in mz corpus\n",
      "There are 40175 words in pnl corpus\n",
      "There are 61607 words in psy 4 de la rime corpus\n",
      "There are 42365 words in stupeflip corpus\n",
      "There are 43261 words in suprême ntm corpus\n",
      "There are 11796 words in damso corpus\n",
      "total of 4309886 words\n"
     ]
    }
   ],
   "source": [
    "for key in corpus_by_artists :\n",
    "  print(\"There are\",len(corpus_by_artists[key]),\"words in\",key,\"corpus\")\n",
    "\n",
    "print(\"total of\",len(total_corpus),\"words\")"
   ]
  },
  {
   "cell_type": "code",
   "execution_count": null,
   "metadata": {
    "colab": {
     "base_uri": "https://localhost:8080/"
    },
    "executionInfo": {
     "elapsed": 2080,
     "status": "ok",
     "timestamp": 1617717151112,
     "user": {
      "displayName": "Etienne Guével",
      "photoUrl": "",
      "userId": "05619154425363425953"
     },
     "user_tz": -60
    },
    "id": "OuvcB5y7jAJK",
    "outputId": "6c439bcc-0c36-49fb-bdff-d72c5c461936"
   },
   "outputs": [
    {
     "name": "stdout",
     "output_type": "stream",
     "text": [
      "Unique words before ignoring: 215562\n",
      "Ignoring words with frequency < 10\n",
      "Unique words after ignoring: 25680\n"
     ]
    }
   ],
   "source": [
    "'''\n",
    "Now we compute the word frequency of our corpus\n",
    "and we remove the words that appear less than a \n",
    "chosen threshold : they will be of no interest\n",
    "for the learning of the algorithm\n",
    "'''\n",
    "\n",
    "word_freq = {}\n",
    "for word in total_corpus:\n",
    "    word_freq[word] = word_freq.get(word, 0) + 1\n",
    "\n",
    "MIN_WORD_FREQUENCY = 10 # this is already huge, but we have a lot of words...\n",
    "\n",
    "ignored_words = set()\n",
    "for k, v in word_freq.items():\n",
    "    if word_freq[k] < MIN_WORD_FREQUENCY:\n",
    "        ignored_words.add(k)\n",
    "\n",
    "words = set(total_corpus)\n",
    "print('Unique words before ignoring:', len(words))\n",
    "print('Ignoring words with frequency <', MIN_WORD_FREQUENCY)\n",
    "words = sorted(set(words) - ignored_words)\n",
    "print('Unique words after ignoring:', len(words))\n",
    "\n",
    "word_indices = dict((c, i) for i, c in enumerate(words))\n",
    "indices_word = dict((i, c) for i, c in enumerate(words))"
   ]
  },
  {
   "cell_type": "code",
   "execution_count": null,
   "metadata": {
    "colab": {
     "base_uri": "https://localhost:8080/"
    },
    "executionInfo": {
     "elapsed": 4263,
     "status": "ok",
     "timestamp": 1617717170045,
     "user": {
      "displayName": "Etienne Guével",
      "photoUrl": "",
      "userId": "05619154425363425953"
     },
     "user_tz": -60
    },
    "id": "38f1GnP7jvgj",
    "outputId": "87e304ac-6e01-40f4-fd54-c78d668ad672"
   },
   "outputs": [
    {
     "name": "stderr",
     "output_type": "stream",
     "text": [
      "100%|██████████| 30469/30469 [00:00<00:00, 352997.11it/s]\n",
      "100%|██████████| 28140/28140 [00:00<00:00, 370839.14it/s]\n",
      "100%|██████████| 7894/7894 [00:00<00:00, 364108.43it/s]\n",
      "100%|██████████| 24152/24152 [00:00<00:00, 425433.54it/s]\n",
      "100%|██████████| 22256/22256 [00:00<00:00, 390441.98it/s]\n",
      "100%|██████████| 14974/14974 [00:00<00:00, 388117.17it/s]\n",
      "100%|██████████| 29130/29130 [00:00<00:00, 376814.06it/s]\n",
      "100%|██████████| 18151/18151 [00:00<00:00, 363009.96it/s]\n",
      "100%|██████████| 6383/6383 [00:00<00:00, 391991.60it/s]\n",
      "100%|██████████| 23453/23453 [00:00<00:00, 384801.09it/s]\n",
      "100%|██████████| 10455/10455 [00:00<00:00, 407947.01it/s]\n",
      "100%|██████████| 11237/11237 [00:00<00:00, 366015.07it/s]\n",
      "100%|██████████| 26445/26445 [00:00<00:00, 401181.90it/s]\n",
      "100%|██████████| 34192/34192 [00:00<00:00, 373938.16it/s]\n",
      "100%|██████████| 28429/28429 [00:00<00:00, 409816.74it/s]\n",
      "100%|██████████| 33369/33369 [00:00<00:00, 109255.71it/s]\n",
      "100%|██████████| 17039/17039 [00:00<00:00, 385325.72it/s]\n",
      "100%|██████████| 15144/15144 [00:00<00:00, 358515.44it/s]\n",
      "100%|██████████| 7483/7483 [00:00<00:00, 376714.60it/s]\n",
      "100%|██████████| 11261/11261 [00:00<00:00, 373063.34it/s]\n",
      "100%|██████████| 12112/12112 [00:00<00:00, 360372.92it/s]\n",
      "100%|██████████| 7409/7409 [00:00<00:00, 371207.05it/s]\n",
      "100%|██████████| 37169/37169 [00:00<00:00, 389674.10it/s]\n",
      "100%|██████████| 32653/32653 [00:00<00:00, 391905.89it/s]\n",
      "100%|██████████| 17467/17467 [00:00<00:00, 395309.44it/s]\n",
      "100%|██████████| 24979/24979 [00:00<00:00, 384335.67it/s]\n",
      "100%|██████████| 12780/12780 [00:00<00:00, 364811.45it/s]\n",
      "100%|██████████| 17896/17896 [00:00<00:00, 383652.69it/s]\n",
      "100%|██████████| 17919/17919 [00:00<00:00, 303298.75it/s]\n",
      "100%|██████████| 18735/18735 [00:00<00:00, 63506.05it/s]\n",
      "100%|██████████| 21128/21128 [00:00<00:00, 366064.48it/s]\n",
      "100%|██████████| 30101/30101 [00:00<00:00, 334603.90it/s]\n",
      "100%|██████████| 57748/57748 [00:00<00:00, 362984.51it/s]\n",
      "100%|██████████| 17267/17267 [00:00<00:00, 381597.71it/s]\n",
      "100%|██████████| 33622/33622 [00:00<00:00, 399415.66it/s]\n",
      "100%|██████████| 26583/26583 [00:00<00:00, 401927.80it/s]\n",
      "100%|██████████| 27243/27243 [00:00<00:00, 374081.45it/s]\n",
      "100%|██████████| 26767/26767 [00:00<00:00, 394302.40it/s]\n",
      "100%|██████████| 11359/11359 [00:00<00:00, 361513.18it/s]\n",
      "100%|██████████| 11464/11464 [00:00<00:00, 372318.93it/s]\n",
      "100%|██████████| 5916/5916 [00:00<00:00, 371215.10it/s]\n",
      "100%|██████████| 13764/13764 [00:00<00:00, 402852.68it/s]\n",
      "100%|██████████| 21272/21272 [00:00<00:00, 67598.25it/s]\n",
      "100%|██████████| 22414/22414 [00:00<00:00, 357029.15it/s]\n",
      "100%|██████████| 33298/33298 [00:00<00:00, 407743.50it/s]\n",
      "100%|██████████| 29756/29756 [00:00<00:00, 393664.16it/s]\n",
      "100%|██████████| 15638/15638 [00:00<00:00, 364349.30it/s]\n",
      "100%|██████████| 7930/7930 [00:00<00:00, 407668.17it/s]\n",
      "100%|██████████| 15059/15059 [00:00<00:00, 383388.01it/s]\n",
      "100%|██████████| 10040/10040 [00:00<00:00, 296377.61it/s]\n",
      "100%|██████████| 15398/15398 [00:00<00:00, 382175.83it/s]\n",
      "100%|██████████| 10588/10588 [00:00<00:00, 321606.03it/s]\n",
      "100%|██████████| 10812/10812 [00:00<00:00, 381162.55it/s]\n",
      "100%|██████████| 2946/2946 [00:00<00:00, 413023.35it/s]"
     ]
    },
    {
     "name": "stdout",
     "output_type": "stream",
     "text": [
      "\n",
      "Ignored sequences: 736752\n",
      "Remaining sequences: 340536\n"
     ]
    },
    {
     "name": "stderr",
     "output_type": "stream",
     "text": [
      "\n"
     ]
    }
   ],
   "source": [
    "'''\n",
    "We will teach our Neural network to predict the next word\n",
    "given a sequence of previous word, of a chosen length.\n",
    "'''\n",
    "\n",
    "STEP = 4 # we only pick one word every five other\n",
    "artists = []\n",
    "sentences = []\n",
    "next_words = []\n",
    "ignored = 0\n",
    "\n",
    "SEQUENCE_LEN = 15\n",
    "for key in corpus_by_artists :\n",
    "  for i in tqdm(range(0, len(corpus_by_artists[key]) - SEQUENCE_LEN, STEP), position=0, leave=True):\n",
    "      # Only add sequences where no word is in ignored_words\n",
    "      if len(set(corpus_by_artists[key][i: i+SEQUENCE_LEN+1]).intersection(ignored_words)) == 0:\n",
    "          artists.append(key)\n",
    "          sentences.append(corpus_by_artists[key][i: i + SEQUENCE_LEN])\n",
    "          next_words.append(corpus_by_artists[key][i + SEQUENCE_LEN])\n",
    "      else:\n",
    "          ignored = ignored+1\n",
    "print('')\n",
    "print('Ignored sequences:', ignored)\n",
    "print('Remaining sequences:', len(sentences))"
   ]
  },
  {
   "cell_type": "code",
   "execution_count": null,
   "metadata": {
    "colab": {
     "base_uri": "https://localhost:8080/"
    },
    "executionInfo": {
     "elapsed": 894,
     "status": "ok",
     "timestamp": 1617717173894,
     "user": {
      "displayName": "Etienne Guével",
      "photoUrl": "",
      "userId": "05619154425363425953"
     },
     "user_tz": -60
    },
    "id": "r39CyJjNkdOy",
    "outputId": "252322cd-8940-4673-e09d-178ce753b3a6"
   },
   "outputs": [
    {
     "name": "stdout",
     "output_type": "stream",
     "text": [
      "Shuffling sentences\n",
      "Size of training set = 306482\n",
      "Size of test set = 34054\n"
     ]
    }
   ],
   "source": [
    "from sklearn.model_selection import train_test_split\n",
    "import numpy as np\n",
    "\n",
    "def shuffle_and_split_training_set(artists_original,sentences_original, next_original, percentage_test=10):\n",
    "    # shuffle at unison\n",
    "    print('Shuffling sentences')\n",
    "\n",
    "    tmp_sentences = []\n",
    "    tmp_next_word = []\n",
    "    tmp_artists = []\n",
    "    for i in np.random.permutation(len(sentences_original)):\n",
    "        tmp_sentences.append(sentences_original[i])\n",
    "        tmp_next_word.append(next_original[i])\n",
    "        tmp_artists.append(artists_original[i])\n",
    "\n",
    "    cut_index = int(len(sentences_original) * (1.-(percentage_test/100.)))\n",
    "\n",
    "    # we put the artist name at the first place of the training object\n",
    "    cat_train,x_train, cat_test,x_test = tmp_artists[:cut_index],tmp_sentences[:cut_index],tmp_artists[cut_index:],tmp_sentences[cut_index:]\n",
    "    y_train, y_test = tmp_next_word[:cut_index], tmp_next_word[cut_index:]\n",
    "\n",
    "    print(\"Size of training set = %d\" % len(x_train))\n",
    "    print(\"Size of test set = %d\" % len(y_test))\n",
    "    return (cat_train, x_train, y_train), (cat_test, x_test, y_test)\n",
    "\n",
    "(artists_train, sentences_train, next_words_train), ( artists_test, sentences_test, next_words_test) = shuffle_and_split_training_set(artists,sentences, next_words)\n"
   ]
  },
  {
   "cell_type": "code",
   "execution_count": null,
   "metadata": {
    "colab": {
     "base_uri": "https://localhost:8080/",
     "height": 857
    },
    "executionInfo": {
     "elapsed": 8091,
     "status": "ok",
     "timestamp": 1617717186288,
     "user": {
      "displayName": "Etienne Guével",
      "photoUrl": "",
      "userId": "05619154425363425953"
     },
     "user_tz": -60
    },
    "id": "sI3v5u9HkS3V",
    "outputId": "2385d434-786a-43d3-b1b1-9b755d4251e6"
   },
   "outputs": [
    {
     "name": "stdout",
     "output_type": "stream",
     "text": [
      "Model: \"model\"\n",
      "__________________________________________________________________________________________________\n",
      "Layer (type)                    Output Shape         Param #     Connected to                     \n",
      "==================================================================================================\n",
      "input_2 (InputLayer)            [(None, 15, 25680)]  0                                            \n",
      "__________________________________________________________________________________________________\n",
      "input_1 (InputLayer)            [(None, 54)]         0                                            \n",
      "__________________________________________________________________________________________________\n",
      "bidirectional (Bidirectional)   (None, 128)          13181440    input_2[0][0]                    \n",
      "__________________________________________________________________________________________________\n",
      "dense (Dense)                   (None, 20)           1100        input_1[0][0]                    \n",
      "__________________________________________________________________________________________________\n",
      "dropout (Dropout)               (None, 128)          0           bidirectional[0][0]              \n",
      "__________________________________________________________________________________________________\n",
      "concatenate (Concatenate)       (None, 148)          0           dense[0][0]                      \n",
      "                                                                 dropout[0][0]                    \n",
      "__________________________________________________________________________________________________\n",
      "dense_1 (Dense)                 (None, 25680)        3826320     concatenate[0][0]                \n",
      "==================================================================================================\n",
      "Total params: 17,008,860\n",
      "Trainable params: 17,008,860\n",
      "Non-trainable params: 0\n",
      "__________________________________________________________________________________________________\n"
     ]
    },
    {
     "data": {
      "image/png": "[encoded data removed]",
      "text/plain": [
       "<IPython.core.display.Image object>"
      ]
     },
     "execution_count": 10,
     "metadata": {
      "tags": []
     },
     "output_type": "execute_result"
    }
   ],
   "source": [
    "from keras.callbacks import LambdaCallback, ModelCheckpoint, EarlyStopping           \n",
    "from keras.models import Sequential                                                  \n",
    "from keras.layers import Dense, Dropout, Activation, LSTM, Bidirectional, Embedding  \n",
    "from keras.layers import Input, Concatenate, Conv2D, Flatten, Dense\n",
    "from keras.models import Model\n",
    "\n",
    "dropout = 0.2\n",
    "\n",
    "artist_input= Input((n_artists,))\n",
    "dense_layer = Dense(20,activation=\"sigmoid\")(artist_input)\n",
    "\n",
    "lyrics_input = Input((SEQUENCE_LEN, len(words)))\n",
    "lstm_layer = Bidirectional(LSTM(64), input_shape=(SEQUENCE_LEN, len(words)))(lyrics_input)\n",
    "dropout_layer = Dropout(dropout)(lstm_layer)\n",
    "concat_layer= Concatenate()([dense_layer, dropout_layer])\n",
    "\n",
    "output = Dense(len(words),activation=\"softmax\")(concat_layer)\n",
    "\n",
    "model = Model(inputs=[artist_input,lyrics_input], outputs=output)\n",
    "model.compile(loss='sparse_categorical_crossentropy',\n",
    "                optimizer=\"adam\", metrics=['accuracy'])\n",
    "model.summary()\n",
    "\n",
    "import tensorflow as tf\n",
    "tf.keras.utils.plot_model(model)"
   ]
  },
  {
   "cell_type": "code",
   "execution_count": null,
   "metadata": {
    "id": "7a4ChN2fljZu"
   },
   "outputs": [],
   "source": [
    "# we need data generators to feed the model\n",
    "# otherwise it would cause a memory error\n",
    "import numpy as np\n",
    "from keras.callbacks import LambdaCallback, ModelCheckpoint, EarlyStopping\n",
    "from operator import itemgetter\n",
    "\n",
    "BATCH_SIZE = 32\n",
    "\n",
    "def generator_eti(artist_list,sentence_list, next_word_list, batch_size):\n",
    "    index = 0\n",
    "    while True:\n",
    "        a = np.zeros((batch_size, n_artists), dtype=np.bool)\n",
    "        x = np.zeros((batch_size, SEQUENCE_LEN, len(words)), dtype=np.bool)\n",
    "        y = np.zeros((batch_size), dtype=np.int)\n",
    "        for i in range(batch_size):\n",
    "            a[i] = lb.transform([artist_list[index % len(sentence_list)]])[0]\n",
    "            for t, w in enumerate(sentence_list[index % len(sentence_list)]):\n",
    "                x[i, t, word_indices[w]] = 1\n",
    "            y[i] =  word_indices[next_word_list[index % len(sentence_list)]]\n",
    "            index = index + 1\n",
    "        yield [a,x], y"
   ]
  },
  {
   "cell_type": "code",
   "execution_count": null,
   "metadata": {
    "colab": {
     "base_uri": "https://localhost:8080/"
    },
    "executionInfo": {
     "elapsed": 952,
     "status": "ok",
     "timestamp": 1616958101651,
     "user": {
      "displayName": "Felix Hubert",
      "photoUrl": "https://lh3.googleusercontent.com/a-/AOh14GgwHrgigBFYRaGbI1CBVTsXY4s7lh2p9gaVyUuQ7Q=s64",
      "userId": "01606205728076468550"
     },
     "user_tz": -120
    },
    "id": "XAtZ9T9W2y7t",
    "outputId": "4b4ddca7-035a-4cf9-c702-a0d4d4969293"
   },
   "outputs": [
    {
     "name": "stdout",
     "output_type": "stream",
     "text": [
      "(32, 54) (32, 15, 25680) (32,)\n",
      "[18364     0  9875  9875  9875 17531 17531 17531 17531   422 23890   455\n",
      "  1451 23544 12996     0 17531 21958 10671     0 24161  6816 22400  4810\n",
      " 12996 22012  3006 23756  5342 10973  5296 12996]\n"
     ]
    }
   ],
   "source": [
    "[a,X],y = next(generator_eti(artists,sentences, next_words, BATCH_SIZE))\n",
    "\n",
    "print(a.shape,X.shape, y.shape)\n",
    "print(y)"
   ]
  },
  {
   "cell_type": "code",
   "execution_count": null,
   "metadata": {
    "colab": {
     "base_uri": "https://localhost:8080/",
     "height": 680
    },
    "executionInfo": {
     "elapsed": 2541328,
     "status": "error",
     "timestamp": 1616960645157,
     "user": {
      "displayName": "Felix Hubert",
      "photoUrl": "https://lh3.googleusercontent.com/a-/AOh14GgwHrgigBFYRaGbI1CBVTsXY4s7lh2p9gaVyUuQ7Q=s64",
      "userId": "01606205728076468550"
     },
     "user_tz": -120
    },
    "id": "0qG8pTWMm4KN",
    "outputId": "3ba2ca1d-948e-45af-9d4c-d8d7cb19c08f"
   },
   "outputs": [
    {
     "name": "stderr",
     "output_type": "stream",
     "text": [
      "/usr/local/lib/python3.7/dist-packages/tensorflow/python/keras/engine/training.py:1844: UserWarning: `Model.fit_generator` is deprecated and will be removed in a future version. Please use `Model.fit`, which supports generators.\n",
      "  warnings.warn('`Model.fit_generator` is deprecated and '\n"
     ]
    },
    {
     "name": "stdout",
     "output_type": "stream",
     "text": [
      "Epoch 1/100\n",
      "10642/10642 [==============================] - 323s 30ms/step - loss: 6.8522 - accuracy: 0.1201 - val_loss: 5.9961 - val_accuracy: 0.1656\n",
      "Epoch 2/100\n",
      "10642/10642 [==============================] - 314s 30ms/step - loss: 5.6918 - accuracy: 0.1747 - val_loss: 5.6738 - val_accuracy: 0.1908\n",
      "Epoch 3/100\n",
      "10642/10642 [==============================] - 309s 29ms/step - loss: 5.1201 - accuracy: 0.2153 - val_loss: 5.5659 - val_accuracy: 0.2048\n",
      "Epoch 4/100\n",
      "10642/10642 [==============================] - 303s 28ms/step - loss: 4.6143 - accuracy: 0.2596 - val_loss: 5.5749 - val_accuracy: 0.2135\n",
      "Epoch 5/100\n",
      "10642/10642 [==============================] - 302s 28ms/step - loss: 4.1301 - accuracy: 0.3113 - val_loss: 5.6592 - val_accuracy: 0.2204\n",
      "Epoch 6/100\n",
      "10642/10642 [==============================] - 306s 29ms/step - loss: 3.6246 - accuracy: 0.3664 - val_loss: 5.7691 - val_accuracy: 0.2257\n",
      "Epoch 7/100\n",
      "10642/10642 [==============================] - 302s 28ms/step - loss: 3.1717 - accuracy: 0.4200 - val_loss: 5.9066 - val_accuracy: 0.2212\n",
      "Epoch 8/100\n",
      "10642/10642 [==============================] - 299s 28ms/step - loss: 2.7756 - accuracy: 0.4737 - val_loss: 6.0677 - val_accuracy: 0.2303\n",
      "Epoch 9/100\n",
      " 2422/10642 [=====>........................] - ETA: 3:39 - loss: 2.5225 - accuracy: 0.5119"
     ]
    },
    {
     "ename": "KeyboardInterrupt",
     "evalue": "ignored",
     "output_type": "error",
     "traceback": [
      "\u001b[0;31m---------------------------------------------------------------------------\u001b[0m",
      "\u001b[0;31mKeyboardInterrupt\u001b[0m                         Traceback (most recent call last)",
      "\u001b[0;32m<ipython-input-20-d84705c84dc9>\u001b[0m in \u001b[0;36m<module>\u001b[0;34m()\u001b[0m\n\u001b[1;32m     17\u001b[0m                     \u001b[0mcallbacks\u001b[0m\u001b[0;34m=\u001b[0m\u001b[0mcallbacks_list\u001b[0m\u001b[0;34m,\u001b[0m\u001b[0;34m\u001b[0m\u001b[0;34m\u001b[0m\u001b[0m\n\u001b[1;32m     18\u001b[0m                     \u001b[0mvalidation_data\u001b[0m\u001b[0;34m=\u001b[0m\u001b[0mgenerator_eti\u001b[0m\u001b[0;34m(\u001b[0m\u001b[0martists_test\u001b[0m\u001b[0;34m,\u001b[0m\u001b[0msentences_test\u001b[0m\u001b[0;34m,\u001b[0m \u001b[0mnext_words_test\u001b[0m\u001b[0;34m,\u001b[0m \u001b[0mBATCH_SIZE\u001b[0m\u001b[0;34m)\u001b[0m\u001b[0;34m,\u001b[0m\u001b[0;34m\u001b[0m\u001b[0;34m\u001b[0m\u001b[0m\n\u001b[0;32m---> 19\u001b[0;31m                     validation_steps=int(len(sentences_test)/BATCH_SIZE) + 1)\n\u001b[0m",
      "\u001b[0;32m/usr/local/lib/python3.7/dist-packages/tensorflow/python/keras/engine/training.py\u001b[0m in \u001b[0;36mfit_generator\u001b[0;34m(self, generator, steps_per_epoch, epochs, verbose, callbacks, validation_data, validation_steps, validation_freq, class_weight, max_queue_size, workers, use_multiprocessing, shuffle, initial_epoch)\u001b[0m\n\u001b[1;32m   1859\u001b[0m         \u001b[0muse_multiprocessing\u001b[0m\u001b[0;34m=\u001b[0m\u001b[0muse_multiprocessing\u001b[0m\u001b[0;34m,\u001b[0m\u001b[0;34m\u001b[0m\u001b[0;34m\u001b[0m\u001b[0m\n\u001b[1;32m   1860\u001b[0m         \u001b[0mshuffle\u001b[0m\u001b[0;34m=\u001b[0m\u001b[0mshuffle\u001b[0m\u001b[0;34m,\u001b[0m\u001b[0;34m\u001b[0m\u001b[0;34m\u001b[0m\u001b[0m\n\u001b[0;32m-> 1861\u001b[0;31m         initial_epoch=initial_epoch)\n\u001b[0m\u001b[1;32m   1862\u001b[0m \u001b[0;34m\u001b[0m\u001b[0m\n\u001b[1;32m   1863\u001b[0m   def evaluate_generator(self,\n",
      "\u001b[0;32m/usr/local/lib/python3.7/dist-packages/tensorflow/python/keras/engine/training.py\u001b[0m in \u001b[0;36mfit\u001b[0;34m(self, x, y, batch_size, epochs, verbose, callbacks, validation_split, validation_data, shuffle, class_weight, sample_weight, initial_epoch, steps_per_epoch, validation_steps, validation_batch_size, validation_freq, max_queue_size, workers, use_multiprocessing)\u001b[0m\n\u001b[1;32m   1098\u001b[0m                 _r=1):\n\u001b[1;32m   1099\u001b[0m               \u001b[0mcallbacks\u001b[0m\u001b[0;34m.\u001b[0m\u001b[0mon_train_batch_begin\u001b[0m\u001b[0;34m(\u001b[0m\u001b[0mstep\u001b[0m\u001b[0;34m)\u001b[0m\u001b[0;34m\u001b[0m\u001b[0;34m\u001b[0m\u001b[0m\n\u001b[0;32m-> 1100\u001b[0;31m               \u001b[0mtmp_logs\u001b[0m \u001b[0;34m=\u001b[0m \u001b[0mself\u001b[0m\u001b[0;34m.\u001b[0m\u001b[0mtrain_function\u001b[0m\u001b[0;34m(\u001b[0m\u001b[0miterator\u001b[0m\u001b[0;34m)\u001b[0m\u001b[0;34m\u001b[0m\u001b[0;34m\u001b[0m\u001b[0m\n\u001b[0m\u001b[1;32m   1101\u001b[0m               \u001b[0;32mif\u001b[0m \u001b[0mdata_handler\u001b[0m\u001b[0;34m.\u001b[0m\u001b[0mshould_sync\u001b[0m\u001b[0;34m:\u001b[0m\u001b[0;34m\u001b[0m\u001b[0;34m\u001b[0m\u001b[0m\n\u001b[1;32m   1102\u001b[0m                 \u001b[0mcontext\u001b[0m\u001b[0;34m.\u001b[0m\u001b[0masync_wait\u001b[0m\u001b[0;34m(\u001b[0m\u001b[0;34m)\u001b[0m\u001b[0;34m\u001b[0m\u001b[0;34m\u001b[0m\u001b[0m\n",
      "\u001b[0;32m/usr/local/lib/python3.7/dist-packages/tensorflow/python/eager/def_function.py\u001b[0m in \u001b[0;36m__call__\u001b[0;34m(self, *args, **kwds)\u001b[0m\n\u001b[1;32m    826\u001b[0m     \u001b[0mtracing_count\u001b[0m \u001b[0;34m=\u001b[0m \u001b[0mself\u001b[0m\u001b[0;34m.\u001b[0m\u001b[0mexperimental_get_tracing_count\u001b[0m\u001b[0;34m(\u001b[0m\u001b[0;34m)\u001b[0m\u001b[0;34m\u001b[0m\u001b[0;34m\u001b[0m\u001b[0m\n\u001b[1;32m    827\u001b[0m     \u001b[0;32mwith\u001b[0m \u001b[0mtrace\u001b[0m\u001b[0;34m.\u001b[0m\u001b[0mTrace\u001b[0m\u001b[0;34m(\u001b[0m\u001b[0mself\u001b[0m\u001b[0;34m.\u001b[0m\u001b[0m_name\u001b[0m\u001b[0;34m)\u001b[0m \u001b[0;32mas\u001b[0m \u001b[0mtm\u001b[0m\u001b[0;34m:\u001b[0m\u001b[0;34m\u001b[0m\u001b[0;34m\u001b[0m\u001b[0m\n\u001b[0;32m--> 828\u001b[0;31m       \u001b[0mresult\u001b[0m \u001b[0;34m=\u001b[0m \u001b[0mself\u001b[0m\u001b[0;34m.\u001b[0m\u001b[0m_call\u001b[0m\u001b[0;34m(\u001b[0m\u001b[0;34m*\u001b[0m\u001b[0margs\u001b[0m\u001b[0;34m,\u001b[0m \u001b[0;34m**\u001b[0m\u001b[0mkwds\u001b[0m\u001b[0;34m)\u001b[0m\u001b[0;34m\u001b[0m\u001b[0;34m\u001b[0m\u001b[0m\n\u001b[0m\u001b[1;32m    829\u001b[0m       \u001b[0mcompiler\u001b[0m \u001b[0;34m=\u001b[0m \u001b[0;34m\"xla\"\u001b[0m \u001b[0;32mif\u001b[0m \u001b[0mself\u001b[0m\u001b[0;34m.\u001b[0m\u001b[0m_experimental_compile\u001b[0m \u001b[0;32melse\u001b[0m \u001b[0;34m\"nonXla\"\u001b[0m\u001b[0;34m\u001b[0m\u001b[0;34m\u001b[0m\u001b[0m\n\u001b[1;32m    830\u001b[0m       \u001b[0mnew_tracing_count\u001b[0m \u001b[0;34m=\u001b[0m \u001b[0mself\u001b[0m\u001b[0;34m.\u001b[0m\u001b[0mexperimental_get_tracing_count\u001b[0m\u001b[0;34m(\u001b[0m\u001b[0;34m)\u001b[0m\u001b[0;34m\u001b[0m\u001b[0;34m\u001b[0m\u001b[0m\n",
      "\u001b[0;32m/usr/local/lib/python3.7/dist-packages/tensorflow/python/eager/def_function.py\u001b[0m in \u001b[0;36m_call\u001b[0;34m(self, *args, **kwds)\u001b[0m\n\u001b[1;32m    853\u001b[0m       \u001b[0;31m# In this case we have created variables on the first call, so we run the\u001b[0m\u001b[0;34m\u001b[0m\u001b[0;34m\u001b[0m\u001b[0;34m\u001b[0m\u001b[0m\n\u001b[1;32m    854\u001b[0m       \u001b[0;31m# defunned version which is guaranteed to never create variables.\u001b[0m\u001b[0;34m\u001b[0m\u001b[0;34m\u001b[0m\u001b[0;34m\u001b[0m\u001b[0m\n\u001b[0;32m--> 855\u001b[0;31m       \u001b[0;32mreturn\u001b[0m \u001b[0mself\u001b[0m\u001b[0;34m.\u001b[0m\u001b[0m_stateless_fn\u001b[0m\u001b[0;34m(\u001b[0m\u001b[0;34m*\u001b[0m\u001b[0margs\u001b[0m\u001b[0;34m,\u001b[0m \u001b[0;34m**\u001b[0m\u001b[0mkwds\u001b[0m\u001b[0;34m)\u001b[0m  \u001b[0;31m# pylint: disable=not-callable\u001b[0m\u001b[0;34m\u001b[0m\u001b[0;34m\u001b[0m\u001b[0m\n\u001b[0m\u001b[1;32m    856\u001b[0m     \u001b[0;32melif\u001b[0m \u001b[0mself\u001b[0m\u001b[0;34m.\u001b[0m\u001b[0m_stateful_fn\u001b[0m \u001b[0;32mis\u001b[0m \u001b[0;32mnot\u001b[0m \u001b[0;32mNone\u001b[0m\u001b[0;34m:\u001b[0m\u001b[0;34m\u001b[0m\u001b[0;34m\u001b[0m\u001b[0m\n\u001b[1;32m    857\u001b[0m       \u001b[0;31m# Release the lock early so that multiple threads can perform the call\u001b[0m\u001b[0;34m\u001b[0m\u001b[0;34m\u001b[0m\u001b[0;34m\u001b[0m\u001b[0m\n",
      "\u001b[0;32m/usr/local/lib/python3.7/dist-packages/tensorflow/python/eager/function.py\u001b[0m in \u001b[0;36m__call__\u001b[0;34m(self, *args, **kwargs)\u001b[0m\n\u001b[1;32m   2941\u001b[0m        filtered_flat_args) = self._maybe_define_function(args, kwargs)\n\u001b[1;32m   2942\u001b[0m     return graph_function._call_flat(\n\u001b[0;32m-> 2943\u001b[0;31m         filtered_flat_args, captured_inputs=graph_function.captured_inputs)  # pylint: disable=protected-access\n\u001b[0m\u001b[1;32m   2944\u001b[0m \u001b[0;34m\u001b[0m\u001b[0m\n\u001b[1;32m   2945\u001b[0m   \u001b[0;34m@\u001b[0m\u001b[0mproperty\u001b[0m\u001b[0;34m\u001b[0m\u001b[0;34m\u001b[0m\u001b[0m\n",
      "\u001b[0;32m/usr/local/lib/python3.7/dist-packages/tensorflow/python/eager/function.py\u001b[0m in \u001b[0;36m_call_flat\u001b[0;34m(self, args, captured_inputs, cancellation_manager)\u001b[0m\n\u001b[1;32m   1917\u001b[0m       \u001b[0;31m# No tape is watching; skip to running the function.\u001b[0m\u001b[0;34m\u001b[0m\u001b[0;34m\u001b[0m\u001b[0;34m\u001b[0m\u001b[0m\n\u001b[1;32m   1918\u001b[0m       return self._build_call_outputs(self._inference_function.call(\n\u001b[0;32m-> 1919\u001b[0;31m           ctx, args, cancellation_manager=cancellation_manager))\n\u001b[0m\u001b[1;32m   1920\u001b[0m     forward_backward = self._select_forward_and_backward_functions(\n\u001b[1;32m   1921\u001b[0m         \u001b[0margs\u001b[0m\u001b[0;34m,\u001b[0m\u001b[0;34m\u001b[0m\u001b[0;34m\u001b[0m\u001b[0m\n",
      "\u001b[0;32m/usr/local/lib/python3.7/dist-packages/tensorflow/python/eager/function.py\u001b[0m in \u001b[0;36mcall\u001b[0;34m(self, ctx, args, cancellation_manager)\u001b[0m\n\u001b[1;32m    558\u001b[0m               \u001b[0minputs\u001b[0m\u001b[0;34m=\u001b[0m\u001b[0margs\u001b[0m\u001b[0;34m,\u001b[0m\u001b[0;34m\u001b[0m\u001b[0;34m\u001b[0m\u001b[0m\n\u001b[1;32m    559\u001b[0m               \u001b[0mattrs\u001b[0m\u001b[0;34m=\u001b[0m\u001b[0mattrs\u001b[0m\u001b[0;34m,\u001b[0m\u001b[0;34m\u001b[0m\u001b[0;34m\u001b[0m\u001b[0m\n\u001b[0;32m--> 560\u001b[0;31m               ctx=ctx)\n\u001b[0m\u001b[1;32m    561\u001b[0m         \u001b[0;32melse\u001b[0m\u001b[0;34m:\u001b[0m\u001b[0;34m\u001b[0m\u001b[0;34m\u001b[0m\u001b[0m\n\u001b[1;32m    562\u001b[0m           outputs = execute.execute_with_cancellation(\n",
      "\u001b[0;32m/usr/local/lib/python3.7/dist-packages/tensorflow/python/eager/execute.py\u001b[0m in \u001b[0;36mquick_execute\u001b[0;34m(op_name, num_outputs, inputs, attrs, ctx, name)\u001b[0m\n\u001b[1;32m     58\u001b[0m     \u001b[0mctx\u001b[0m\u001b[0;34m.\u001b[0m\u001b[0mensure_initialized\u001b[0m\u001b[0;34m(\u001b[0m\u001b[0;34m)\u001b[0m\u001b[0;34m\u001b[0m\u001b[0;34m\u001b[0m\u001b[0m\n\u001b[1;32m     59\u001b[0m     tensors = pywrap_tfe.TFE_Py_Execute(ctx._handle, device_name, op_name,\n\u001b[0;32m---> 60\u001b[0;31m                                         inputs, attrs, num_outputs)\n\u001b[0m\u001b[1;32m     61\u001b[0m   \u001b[0;32mexcept\u001b[0m \u001b[0mcore\u001b[0m\u001b[0;34m.\u001b[0m\u001b[0m_NotOkStatusException\u001b[0m \u001b[0;32mas\u001b[0m \u001b[0me\u001b[0m\u001b[0;34m:\u001b[0m\u001b[0;34m\u001b[0m\u001b[0;34m\u001b[0m\u001b[0m\n\u001b[1;32m     62\u001b[0m     \u001b[0;32mif\u001b[0m \u001b[0mname\u001b[0m \u001b[0;32mis\u001b[0m \u001b[0;32mnot\u001b[0m \u001b[0;32mNone\u001b[0m\u001b[0;34m:\u001b[0m\u001b[0;34m\u001b[0m\u001b[0;34m\u001b[0m\u001b[0m\n",
      "\u001b[0;31mKeyboardInterrupt\u001b[0m: "
     ]
    }
   ],
   "source": [
    "\n",
    "early_stopping = EarlyStopping(monitor='val_accuracy', patience=5)\n",
    "#file_path = '/content/drive/MyDrive/ProjetDL/Model_2'     #Changer le nom avant pleeeeease mdr\n",
    "model_checkpoint = ModelCheckpoint(filepath=file_path + '.hdf5', monitor='val_accuracy',\n",
    "                                                   save_best_only=True)\n",
    "\n",
    "callbacks_list = [early_stopping,model_checkpoint]\n",
    "\n",
    "model.fit_generator(generator_eti(artists_train,sentences_train, next_words_train, BATCH_SIZE),\n",
    "                    steps_per_epoch=int(len(sentences)/BATCH_SIZE) + 1,\n",
    "                    epochs=100, # at least 20 should be needed\n",
    "                    callbacks=callbacks_list,\n",
    "                    validation_data=generator_eti(artists_test,sentences_test, next_words_test, BATCH_SIZE), \n",
    "                    validation_steps=int(len(sentences_test)/BATCH_SIZE) + 1)"
   ]
  },
  {
   "cell_type": "code",
   "execution_count": null,
   "metadata": {
    "id": "Oi6KvR_B0VOY"
   },
   "outputs": [],
   "source": [
    "#I use a loaded model with only 5 epochs to generate text\n",
    "#reconstructed_model = keras.models.load_model('/content/drive/MyDrive/ProjetDL/model20')\n",
    "\n",
    "file_path = '/content/drive/MyDrive/ProjetDL/Model_2'\n",
    "#Faut execute la cell de la création du modèle plus haut avant\n",
    "model.load_weights(file_path + '.hdf5')"
   ]
  },
  {
   "cell_type": "code",
   "execution_count": null,
   "metadata": {
    "colab": {
     "base_uri": "https://localhost:8080/"
    },
    "executionInfo": {
     "elapsed": 1025,
     "status": "ok",
     "timestamp": 1617719270177,
     "user": {
      "displayName": "Etienne Guével",
      "photoUrl": "",
      "userId": "05619154425363425953"
     },
     "user_tz": -60
    },
    "id": "S9R8vyKUjgAs",
    "outputId": "b5d35a6b-ef03-40e5-e0a3-9d3c9b0c1c7c"
   },
   "outputs": [
    {
     "data": {
      "text/plain": [
       "15"
      ]
     },
     "execution_count": 34,
     "metadata": {
      "tags": []
     },
     "output_type": "execute_result"
    }
   ],
   "source": [
    "seed1 = ['juge','que','j','ai','vu','avait','plus','de','vice','que','le','dealer','de','ma','rue']\n",
    "seed2 = ['me','fait','craquer', '\\n','ce','n','est','qu','un','dessin','mais','je','veux','l','aimer']\n",
    "seed3 = ['yo','yo','yo','je','pense','pas','à','demain',',','parce','que','demain','c','est','loin']\n",
    "len(seed3)"
   ]
  },
  {
   "cell_type": "code",
   "execution_count": null,
   "metadata": {
    "colab": {
     "base_uri": "https://localhost:8080/"
    },
    "executionInfo": {
     "elapsed": 26089,
     "status": "ok",
     "timestamp": 1617719518255,
     "user": {
      "displayName": "Etienne Guével",
      "photoUrl": "",
      "userId": "05619154425363425953"
     },
     "user_tz": -60
    },
    "id": "Fb2DmGY_amTU",
    "outputId": "9f0c8817-ebaa-44a8-a395-e5955edd1bda"
   },
   "outputs": [
    {
     "name": "stdout",
     "output_type": "stream",
     "text": [
      "['yo', 'yo', 'yo', 'je', 'pense', 'pas', 'à', 'demain', ',', 'parce', 'que', 'demain', 'c', 'est', 'loin']\n",
      "['booba']\n",
      "generation pour température 0.4 :\n",
      "\n",
      " mais aujourd'hui sans se faire, quand je ne cherche jamais \n",
      " la vie est un peu d'elle \n",
      " on est là, dans la tête \n",
      " on est tous les vrais qui veulent faire la guerre \n",
      " les gens sont les vrais sont sont remplis de pute \n",
      " fais la guerre \n",
      " les sont en chien de la nuit \n",
      " je suis là où je suis au placard de la rue \n",
      " de mon père et les vrais qui parlent de mon père \n",
      " le rap de la vie, la vie est comme un coup \n",
      " tu sais qu'c'est la\n",
      "\n",
      "generation pour température 0.4 :\n",
      "\n",
      " mais trop ce n'est pas chez nous \n",
      " c'est pas pour les mêmes hommes \n",
      " c'est pas de la vie \n",
      " c'est qu'une seule seule fois qu'on ne peut pas faire ce que c'est ce qu'il est un crime \n",
      " à moi on est toujours en bas de la merde \n",
      " et de la vie à la main, on va se faire \n",
      " on est partie de la vie \n",
      " on va faire des gens \n",
      " on va se faire \n",
      " on va tous les boss \n",
      " on va faire la guerre \n",
      " on va tous les fils de\n",
      "\n",
      "generation pour température 0.5 :\n",
      "\n",
      " j'ai perdu des nuits à tous mes billets \n",
      " j'ai perdu des mots des ennemis \n",
      " j'ai des frères qui font des meufs \n",
      " ils m'ont donné des négros ils m'ont donné au noir \n",
      " ils sont en feat quand tu sais où les sont en chien \n",
      " la paix sont l'heure où nous ne ne a pas de la fête \n",
      " c'est vrai si j'ai le temps de la fête \n",
      " la fin de la fin de la fin de la fin \n",
      " je suis mal \n",
      " la fin de la fin de la fin \n",
      " le monde\n",
      "\n",
      "generation pour température 0.5 :\n",
      "\n",
      " j'ai trop de l'amour à trop trop \n",
      " parce que j'ai trop trop de trop dans les mains \n",
      " j'ai du mal de la vie à la fin du sale, j'suis en plein de barreaux \n",
      " ma vie de la vie je suis à la vie \n",
      " je suis de la vie de la vie \n",
      " je suis loin de ma vie de la vie \n",
      " je suis un seul de rêve de la vie \n",
      " de la vie est un seul rêve \n",
      " une fois que j'ai une seule idée de lui dire que je suis pas \n",
      "\n",
      "\n",
      "generation pour température 0.6 :\n",
      "\n",
      " ( \n",
      " ouloulou \n",
      " ) \n",
      " je suis à voir je sais \n",
      " j'suis venu tout ce que je suis \n",
      " avoir une seule m'faire un homme \n",
      " un peu un homme \n",
      " si j'ai toujours un fil et la mentale \n",
      " si j'ai un coup un pack , , un album qui l'a dit \n",
      " on est toujours même on est toujours avec des mains \n",
      " ils nous ont toujours de tout, même pas \n",
      " j'suis dans la zone \n",
      " on est contrôle de l'or \n",
      " je suis pas de la cité, je suis prêt de la guerre\n",
      "\n",
      "generation pour température 0.6 :\n",
      "\n",
      " j'ai trop trop comme à deux tomber \n",
      " l'amour à part un père avec un gros canon à part \n",
      " personne ne fais pas les choses qui te fait péter ta jalousie \n",
      " la bouche avec les rues de ma bite \n",
      " si elle avait dit qu'il y avait un peu en chien \n",
      " si t'as trop quelque chose quand personne n'est : j'pars en soi \n",
      " en jalousie du compter, mais si t'as pas bonne poignée de perdre \n",
      " tu pourras chanter \n",
      " y a des fois on est prêt à une fois \n",
      " il y a toujours\n",
      "\n"
     ]
    }
   ],
   "source": [
    "seed_index = np.random.randint(len(sentences))\n",
    "seed = sentences[seed_index]\n",
    "seed = ['mes', 'textes', 'sont', 'écrits', 'par', 'une', 'machine', '\\n', 'mon', 'sons', 'vient', 'de', 'la', 'rue', 'gros']\n",
    "seed = seed3\n",
    "# rapper = lb.transform([artists[seed_index % len(sentences)]])\n",
    "rapper = lb.transform(['booba'])\n",
    "rapper_bis = lb.transform(['oxmo puccino'])\n",
    "print(seed)\n",
    "print(lb.inverse_transform(rapper))\n",
    "def sample(preds, temperature=1.0):\n",
    "    # helper function to sample an index from a probability array\n",
    "    preds = np.asarray(preds).astype('float64')\n",
    "    preds = np.log(preds) / temperature\n",
    "    exp_preds = np.exp(preds)\n",
    "    preds = exp_preds / np.sum(exp_preds)\n",
    "    probas = np.random.multinomial(1, preds, 1)\n",
    "    return np.argmax(probas)\n",
    "\n",
    "for diversity in [0.4, 0.5, 0.6]:\n",
    "    sentence = seed\n",
    "    sentence_bis = seed\n",
    "\n",
    "    lyric = []\n",
    "    lyric_bis = []\n",
    "    for i in range(100):\n",
    "        x_pred = np.zeros((1, SEQUENCE_LEN, len(words)))\n",
    "        x_pred_bis = np.zeros((1, SEQUENCE_LEN, len(words)))\n",
    "\n",
    "        for t, word in enumerate(sentence):\n",
    "            x_pred[0, t, word_indices[word]] = 1.\n",
    "\n",
    "        for t, word in enumerate(sentence_bis):\n",
    "            x_pred_bis[0, t, word_indices[word]] = 1.\n",
    "\n",
    "        preds = model.predict([rapper,x_pred], verbose=0)[0] # reconstructed_model or model\n",
    "        preds_bis = model.predict([rapper_bis,x_pred_bis], verbose=0)[0]\n",
    "\n",
    "        next_index = sample(preds, diversity)\n",
    "        next_word = indices_word[next_index]\n",
    "\n",
    "        next_index_bis = sample(preds_bis, diversity)\n",
    "        next_word_bis = indices_word[next_index_bis]\n",
    "\n",
    "        sentence = sentence[1:]\n",
    "        sentence.append(next_word)\n",
    "\n",
    "        sentence_bis = sentence_bis[1:]\n",
    "        sentence_bis.append(next_word_bis)\n",
    "\n",
    "        lyric.append(next_word)\n",
    "        lyric_bis.append(next_word_bis)\n",
    "    print('generation pour température',diversity,':')\n",
    "    print(' '.join(lyric))\n",
    "    print('')\n",
    "\n",
    "    print('generation pour température',diversity,':')\n",
    "    print(' '.join(lyric_bis))\n",
    "    print('')\n"
   ]
  }
 ],
 "metadata": {
  "accelerator": "GPU",
  "colab": {
   "collapsed_sections": [],
   "name": "Conditional Rap Generator V1.ipynb",
   "provenance": [
    {
     "file_id": "1dn-6iYFwuoN3mcAchm12px8uzRS3cp2l",
     "timestamp": 1616863330735
    }
   ]
  },
  "kernelspec": {
   "display_name": "Python 3",
   "language": "python",
   "name": "python3"
  },
  "language_info": {
   "codemirror_mode": {
    "name": "ipython",
    "version": 3
   },
   "file_extension": ".py",
   "mimetype": "text/x-python",
   "name": "python",
   "nbconvert_exporter": "python",
   "pygments_lexer": "ipython3",
   "version": "3.7.4"
  }
 },
 "nbformat": 4,
 "nbformat_minor": 1
}
